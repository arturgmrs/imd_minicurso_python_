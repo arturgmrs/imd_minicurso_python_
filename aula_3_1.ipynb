{
  "nbformat": 4,
  "nbformat_minor": 0,
  "metadata": {
    "kernelspec": {
      "display_name": "Python 3",
      "language": "python",
      "name": "python3"
    },
    "language_info": {
      "codemirror_mode": {
        "name": "ipython",
        "version": 3
      },
      "file_extension": ".py",
      "mimetype": "text/x-python",
      "name": "python",
      "nbconvert_exporter": "python",
      "pygments_lexer": "ipython3",
      "version": "3.6.3"
    },
    "colab": {
      "name": "aula_3_1.ipynb",
      "provenance": [],
      "include_colab_link": true
    }
  },
  "cells": [
    {
      "cell_type": "markdown",
      "metadata": {
        "id": "view-in-github",
        "colab_type": "text"
      },
      "source": [
        "<a href=\"https://colab.research.google.com/github/arturgmrs/imd_tec_002/blob/master/aula_3_1.ipynb\" target=\"_parent\"><img src=\"https://colab.research.google.com/assets/colab-badge.svg\" alt=\"Open In Colab\"/></a>"
      ]
    },
    {
      "cell_type": "markdown",
      "metadata": {
        "id": "X_8pnALM7akn"
      },
      "source": [
        "\n",
        "# Pacote Pandas-Python\n",
        "\n",
        "Adaptado: \n",
        "Disciplina: Análise da Aprendizagem (ITE 0021) \n",
        "\n",
        "---\n",
        "Prof.s Isabel Nunes e Luiz Affonso Guedes\n",
        "\n",
        "PPGTI - UFRN\n",
        "2019-2\n"
      ]
    },
    {
      "cell_type": "markdown",
      "metadata": {
        "id": "yee-dAq97akp"
      },
      "source": [
        "## Pacote Pandas - Parte I\n",
        "\n",
        "Pandas é construído sobre o Pacote Numpy. Porém, direntemente dos arrays de NumPy, variáveis manipuladas pelo Pandas podem ser de tipos diversos (não homogêneos). Assim, uma determinada variável pode contém elementos de diversos tipos. DataFrame e Series são exemplos de dados complexo de Pandas. \n",
        "\n",
        "DataFrames são dados \"retangulares\", usualmente utilizados para representar informação em formato de planilha, por exemplo. Assim, as colunas devem ter as mesmas dimensões e cada coluna contém elementos de um mesmo tipo de dado.\n",
        "\n",
        "Series são objetos tipo array uni-dimensional contendo um array de dados (equivalente ao array uni-dimensional NumPy) e um array de labels do array de dados (denominados de index da Serie). Na sua forma mais simples, Series podem conter apenas os arrays de dados. Neste caso, os indexes segue o padrão dos arrays NumPy (índices de zero a n-1).\n",
        "\n",
        "Pandas implementa uma série de operações sobre dados para usuários familiarizados com banco de dados e planilhas."
      ]
    },
    {
      "cell_type": "markdown",
      "metadata": {
        "id": "dTCCIH0X7akp"
      },
      "source": [
        "\n",
        "\n",
        "\n",
        "Convensão de notação:\n",
        "- from pandas import Series, DataFrame\n",
        "- import pandas as pd"
      ]
    },
    {
      "cell_type": "code",
      "metadata": {
        "id": "sr4qkh327akq"
      },
      "source": [
        "# Exemplo: Importanto Pandas\n",
        "\n",
        "from pandas import Series, DataFrame\n",
        "import pandas as pd"
      ],
      "execution_count": 1,
      "outputs": []
    },
    {
      "cell_type": "markdown",
      "metadata": {
        "id": "B4PUXaKD7akv"
      },
      "source": [
        "Series Pandas podem ser vistas como o equivalente ao tipo básico dictionaries. Porém, assim como operações em arrays NumPy são mais eficientes que em Listas, operar em Series é bem mais eficiente que operarar sobre variáveis do tipo Dictonarie. "
      ]
    },
    {
      "cell_type": "code",
      "metadata": {
        "id": "oL4K33kr7akv"
      },
      "source": [
        "# Exemplo: População de alguns estados dos Estados Unidos - Definido como dicionário\n",
        "\n",
        "pop_dict = {'California': 38332521, \n",
        "'Texas': 26448193, \n",
        "'New York': 19651127, \n",
        "'Florida': 19552860,\n",
        "'Illinois': 12882135}"
      ],
      "execution_count": 2,
      "outputs": []
    },
    {
      "cell_type": "code",
      "metadata": {
        "id": "pnTItHvx7akz"
      },
      "source": [
        "# Exemplo: Área de alguns estados dos Estados Unidos\n",
        "area_dict = {'California': 423967, 'Texas': 695662, 'New York': 141297, 'Florida': 170312, 'Illinois': 149995}"
      ],
      "execution_count": 3,
      "outputs": []
    },
    {
      "cell_type": "code",
      "metadata": {
        "id": "rvDZdL8v7ak2",
        "outputId": "205336ef-a571-4272-f158-544d36d7a4ce",
        "colab": {
          "base_uri": "https://localhost:8080/",
          "height": 34
        }
      },
      "source": [
        "dict.values(pop_dict)"
      ],
      "execution_count": 4,
      "outputs": [
        {
          "output_type": "execute_result",
          "data": {
            "text/plain": [
              "dict_values([38332521, 26448193, 19651127, 19552860, 12882135])"
            ]
          },
          "metadata": {
            "tags": []
          },
          "execution_count": 4
        }
      ]
    },
    {
      "cell_type": "code",
      "metadata": {
        "id": "A6bOqlGV7ak6",
        "outputId": "eea74182-d485-44bc-e3e5-f9e878b055db",
        "colab": {
          "base_uri": "https://localhost:8080/",
          "height": 34
        }
      },
      "source": [
        "dict.keys(pop_dict)"
      ],
      "execution_count": 5,
      "outputs": [
        {
          "output_type": "execute_result",
          "data": {
            "text/plain": [
              "dict_keys(['California', 'Texas', 'New York', 'Florida', 'Illinois'])"
            ]
          },
          "metadata": {
            "tags": []
          },
          "execution_count": 5
        }
      ]
    },
    {
      "cell_type": "code",
      "metadata": {
        "id": "0FzsHtQf7ak9"
      },
      "source": [
        "#Exercícios: \n",
        "#           - Transforme a variável dicionario 'area_dict' em uma Serie-Pandas\n",
        "#           - Transforme a variável dicionario 'pop_dict' em uma Serie-Pandas        \n",
        "#           - Obtenha os estados com mais de 20 milhões de habitantes.\n",
        "#           - Obtenha o número de habitantes da California\n",
        "#           - Obtenha o estado com mais habitantes\n",
        "#           - Obtenha o estado com menos habitantes\n",
        "#           - Obtenha a lista dos estados com área entre 400.000 e 500.000 \n",
        "#           - A densidade (número de habitantes por área) desses estados\n",
        "\n"
      ],
      "execution_count": 6,
      "outputs": []
    },
    {
      "cell_type": "code",
      "metadata": {
        "id": "F4Uy8Ipw7alB"
      },
      "source": [
        "# Transformar dicionário area_dict em Serie-Pandas\n",
        "\n",
        "area_serie = Series(area_dict)\n"
      ],
      "execution_count": 111,
      "outputs": []
    },
    {
      "cell_type": "code",
      "metadata": {
        "id": "5sUtzlFM7alE",
        "outputId": "a22940ef-5183-4f6a-b9fa-3e123fdea7e2",
        "colab": {
          "base_uri": "https://localhost:8080/",
          "height": 34
        }
      },
      "source": [
        "# Obtendo os valores de uma Serie\n",
        "area_serie.values"
      ],
      "execution_count": 112,
      "outputs": [
        {
          "output_type": "execute_result",
          "data": {
            "text/plain": [
              "array([423967, 695662, 141297, 170312, 149995])"
            ]
          },
          "metadata": {
            "tags": []
          },
          "execution_count": 112
        }
      ]
    },
    {
      "cell_type": "code",
      "metadata": {
        "id": "gMTOWUmw7alH",
        "outputId": "977c734a-8d07-4d6c-80ef-a73e82765bd9",
        "colab": {
          "base_uri": "https://localhost:8080/",
          "height": 34
        }
      },
      "source": [
        "# Obtendo os indexs das séries\n",
        "area_serie.index"
      ],
      "execution_count": 9,
      "outputs": [
        {
          "output_type": "execute_result",
          "data": {
            "text/plain": [
              "Index(['California', 'Texas', 'New York', 'Florida', 'Illinois'], dtype='object')"
            ]
          },
          "metadata": {
            "tags": []
          },
          "execution_count": 9
        }
      ]
    },
    {
      "cell_type": "code",
      "metadata": {
        "id": "AqMQyAlS7alJ"
      },
      "source": [
        "# Transformar dicionário pop_dict em Serie-Pandas\n",
        "\n",
        "pop_serie = Series(pop_dict)"
      ],
      "execution_count": 129,
      "outputs": []
    },
    {
      "cell_type": "code",
      "metadata": {
        "id": "PygIt0A47alM",
        "outputId": "f09448c3-aa59-4016-fbb7-3184d0a88107",
        "colab": {
          "base_uri": "https://localhost:8080/",
          "height": 123
        }
      },
      "source": [
        "# Obtendo a situação das áreas dos estados\n",
        "area_serie>400000"
      ],
      "execution_count": 128,
      "outputs": [
        {
          "output_type": "execute_result",
          "data": {
            "text/plain": [
              "California     True\n",
              "Texas          True\n",
              "New York      False\n",
              "Florida       False\n",
              "Illinois      False\n",
              "dtype: bool"
            ]
          },
          "metadata": {
            "tags": []
          },
          "execution_count": 128
        }
      ]
    },
    {
      "cell_type": "code",
      "metadata": {
        "id": "79nZ4bCN7alO",
        "outputId": "ae15a7b6-ed83-48f0-82b1-92fba70ce7b0",
        "colab": {
          "base_uri": "https://localhost:8080/",
          "height": 70
        }
      },
      "source": [
        "# Obtendo apenas os estados com áreas acima de 400000\n",
        "area_serie[area_serie>400000]"
      ],
      "execution_count": 127,
      "outputs": [
        {
          "output_type": "execute_result",
          "data": {
            "text/plain": [
              "California    423967\n",
              "Texas         695662\n",
              "dtype: int64"
            ]
          },
          "metadata": {
            "tags": []
          },
          "execution_count": 127
        }
      ]
    },
    {
      "cell_type": "code",
      "metadata": {
        "id": "25kxQgFj7alR",
        "outputId": "e6a59372-0c1d-4788-d2fc-115236f1447b",
        "colab": {
          "base_uri": "https://localhost:8080/",
          "height": 123
        }
      },
      "source": [
        "# Obtenha os estados com mais de 20 milhões de habitantes.\n",
        "pop_serie>15000000\n"
      ],
      "execution_count": 126,
      "outputs": [
        {
          "output_type": "execute_result",
          "data": {
            "text/plain": [
              "California     True\n",
              "Texas          True\n",
              "New York       True\n",
              "Florida        True\n",
              "Illinois      False\n",
              "dtype: bool"
            ]
          },
          "metadata": {
            "tags": []
          },
          "execution_count": 126
        }
      ]
    },
    {
      "cell_type": "code",
      "metadata": {
        "id": "WQE6Pemq7alV",
        "outputId": "ff6fafde-9b56-4223-d61f-4ad2a922a383",
        "colab": {
          "base_uri": "https://localhost:8080/",
          "height": 34
        }
      },
      "source": [
        "# Obtenha o número de habitantes da California\n",
        "pop_serie.California"
      ],
      "execution_count": 130,
      "outputs": [
        {
          "output_type": "execute_result",
          "data": {
            "text/plain": [
              "38332521"
            ]
          },
          "metadata": {
            "tags": []
          },
          "execution_count": 130
        }
      ]
    },
    {
      "cell_type": "code",
      "metadata": {
        "id": "-YEaSrit7alX"
      },
      "source": [
        "# Obtenha o estado com mais habitantes"
      ],
      "execution_count": 14,
      "outputs": []
    },
    {
      "cell_type": "code",
      "metadata": {
        "id": "4A2MlGEj7ala"
      },
      "source": [
        "# Obtenha o estado com menos habitantes\n"
      ],
      "execution_count": 15,
      "outputs": []
    },
    {
      "cell_type": "code",
      "metadata": {
        "id": "KkdUgLbo7ald"
      },
      "source": [
        "# Obtenha a lista dos estados com área entre 400.000 e 500.000 \n"
      ],
      "execution_count": 16,
      "outputs": []
    },
    {
      "cell_type": "code",
      "metadata": {
        "id": "Z4ncLPR87alf"
      },
      "source": [
        "# A densidade (número de habitantes por área) desses estados\n"
      ],
      "execution_count": 17,
      "outputs": []
    },
    {
      "cell_type": "markdown",
      "metadata": {
        "id": "W7jg6PkA7alh"
      },
      "source": [
        "Os Indexers: loc, iloc\n",
        "- indicação de índice específico. --> dado[3]\n",
        "- indicação de intervalo de índices. --> dado[1:3]. Segue o padrão de Lista.\n",
        "- métodos .loc(), .iloc()"
      ]
    },
    {
      "cell_type": "code",
      "metadata": {
        "id": "atglFx8A7ali",
        "outputId": "b72a26fd-3de1-479d-8cb2-acddee9050f7",
        "colab": {
          "base_uri": "https://localhost:8080/",
          "height": 105
        }
      },
      "source": [
        "# Exemplo de indicação de índice em Pandas\n",
        "\n",
        "data = pd.Series(['a', 'b', 'c', 'd'], index=[1,3, 5, 7])\n",
        "#data = pd.Series(['a', 'b', 'c', 'd'])\n",
        "data"
      ],
      "execution_count": 131,
      "outputs": [
        {
          "output_type": "execute_result",
          "data": {
            "text/plain": [
              "1    a\n",
              "3    b\n",
              "5    c\n",
              "7    d\n",
              "dtype: object"
            ]
          },
          "metadata": {
            "tags": []
          },
          "execution_count": 131
        }
      ]
    },
    {
      "cell_type": "code",
      "metadata": {
        "id": "nEa5AbCs7alo",
        "outputId": "5241d367-1038-48c7-ced9-532cb1cfe8bf",
        "colab": {
          "base_uri": "https://localhost:8080/",
          "height": 158
        }
      },
      "source": [
        "# Exemplo de indicação de índice em Pandas usando o método .loc()\n",
        "print(data.loc[1:3])\n",
        "print()\n",
        "print(data.loc[1:5])"
      ],
      "execution_count": 152,
      "outputs": [
        {
          "output_type": "stream",
          "text": [
            "1    a\n",
            "3    b\n",
            "dtype: object\n",
            "\n",
            "1    a\n",
            "3    b\n",
            "5    c\n",
            "dtype: object\n"
          ],
          "name": "stdout"
        }
      ]
    },
    {
      "cell_type": "code",
      "metadata": {
        "id": "pUSzkvQy7alm",
        "outputId": "51a2e517-518f-40c2-e49c-2101f182b462",
        "colab": {
          "base_uri": "https://localhost:8080/",
          "height": 87
        }
      },
      "source": [
        "# Exemplo de indicação de intervalo de índice em Pandas\n",
        "#data[1:3]\n",
        "data[1:4]"
      ],
      "execution_count": 142,
      "outputs": [
        {
          "output_type": "execute_result",
          "data": {
            "text/plain": [
              "3    b\n",
              "5    c\n",
              "7    d\n",
              "dtype: object"
            ]
          },
          "metadata": {
            "tags": []
          },
          "execution_count": 142
        }
      ]
    },
    {
      "cell_type": "code",
      "metadata": {
        "id": "Cx2efxWW7alk",
        "outputId": "7b1c3c2e-0205-4e23-a7ae-17c068648772",
        "colab": {
          "base_uri": "https://localhost:8080/",
          "height": 35
        }
      },
      "source": [
        "# Exemplo de indicação específica de índice em Pandas\n",
        "data[1]\n",
        "#data[0]"
      ],
      "execution_count": 143,
      "outputs": [
        {
          "output_type": "execute_result",
          "data": {
            "application/vnd.google.colaboratory.intrinsic+json": {
              "type": "string"
            },
            "text/plain": [
              "'a'"
            ]
          },
          "metadata": {
            "tags": []
          },
          "execution_count": 143
        }
      ]
    },
    {
      "cell_type": "code",
      "metadata": {
        "id": "GULt7rBA7alq",
        "outputId": "bbe01a4a-abee-42b4-cf1e-edecf8968fe6",
        "colab": {
          "base_uri": "https://localhost:8080/",
          "height": 105
        }
      },
      "source": [
        "# Exemplo de indicação de índice em Pandas usando o método .iloc()\n",
        "print(data.iloc[1])\n",
        "print()\n",
        "print(data.iloc[1:3])"
      ],
      "execution_count": 22,
      "outputs": [
        {
          "output_type": "stream",
          "text": [
            "b\n",
            "\n",
            "3    b\n",
            "5    c\n",
            "dtype: object\n"
          ],
          "name": "stdout"
        }
      ]
    },
    {
      "cell_type": "markdown",
      "metadata": {
        "id": "yyKz0Jpu7alt"
      },
      "source": [
        "### Objeto do tipo DataFrame em Pandas"
      ]
    },
    {
      "cell_type": "markdown",
      "metadata": {
        "id": "Qso8FGxR7alt"
      },
      "source": [
        "Se uma Serie-Pandas é um análogo de um array NumPy unidimensional com índices explícitos e flexíveis, então um DataFrame é um análogo de array NumPy bidimensional com índices de linha e de colunas flexíveis.\n",
        "\n",
        "Assim, DataFrame Pandas equivale a uma Matriz com índices explícitos, porém, diferentemenete dos arrays NumPy, os elementos podem ser de tipos diferentes.\n",
        "\n",
        "DataFrames podem ser vistos como uma sequência de objetos Series-Pandas alinhados por índices."
      ]
    },
    {
      "cell_type": "code",
      "metadata": {
        "id": "bGsrfLkG7alu",
        "outputId": "762a82ae-d388-495e-d0df-789420dc6122",
        "colab": {
          "base_uri": "https://localhost:8080/",
          "height": 123
        }
      },
      "source": [
        "# Exemplo - Transformação de dict em Serie-Pandas\n",
        "populacao = pd.Series(pop_dict)\n",
        "populacao"
      ],
      "execution_count": 23,
      "outputs": [
        {
          "output_type": "execute_result",
          "data": {
            "text/plain": [
              "California    38332521\n",
              "Texas         26448193\n",
              "New York      19651127\n",
              "Florida       19552860\n",
              "Illinois      12882135\n",
              "dtype: int64"
            ]
          },
          "metadata": {
            "tags": []
          },
          "execution_count": 23
        }
      ]
    },
    {
      "cell_type": "code",
      "metadata": {
        "id": "dsXtwPG27alw",
        "outputId": "45f7b3fe-a276-487c-c348-1da058390c37",
        "colab": {
          "base_uri": "https://localhost:8080/",
          "height": 123
        }
      },
      "source": [
        "# Exemplo - Transformação de dict em Serie-Pandas\n",
        "area = pd.Series(area_dict)\n",
        "area"
      ],
      "execution_count": 24,
      "outputs": [
        {
          "output_type": "execute_result",
          "data": {
            "text/plain": [
              "California    423967\n",
              "Texas         695662\n",
              "New York      141297\n",
              "Florida       170312\n",
              "Illinois      149995\n",
              "dtype: int64"
            ]
          },
          "metadata": {
            "tags": []
          },
          "execution_count": 24
        }
      ]
    },
    {
      "cell_type": "code",
      "metadata": {
        "id": "Ml9-BQwt7alz",
        "outputId": "665a4f7b-0b83-49fe-d62b-5d1a22f12d00",
        "colab": {
          "base_uri": "https://localhost:8080/",
          "height": 197
        }
      },
      "source": [
        "# Exemplo - Criação de um DataFrame Pandas\n",
        "\n",
        "estados = pd.DataFrame({'população': populacao,'área': area})\n",
        "estados"
      ],
      "execution_count": 25,
      "outputs": [
        {
          "output_type": "execute_result",
          "data": {
            "text/html": [
              "<div>\n",
              "<style scoped>\n",
              "    .dataframe tbody tr th:only-of-type {\n",
              "        vertical-align: middle;\n",
              "    }\n",
              "\n",
              "    .dataframe tbody tr th {\n",
              "        vertical-align: top;\n",
              "    }\n",
              "\n",
              "    .dataframe thead th {\n",
              "        text-align: right;\n",
              "    }\n",
              "</style>\n",
              "<table border=\"1\" class=\"dataframe\">\n",
              "  <thead>\n",
              "    <tr style=\"text-align: right;\">\n",
              "      <th></th>\n",
              "      <th>população</th>\n",
              "      <th>área</th>\n",
              "    </tr>\n",
              "  </thead>\n",
              "  <tbody>\n",
              "    <tr>\n",
              "      <th>California</th>\n",
              "      <td>38332521</td>\n",
              "      <td>423967</td>\n",
              "    </tr>\n",
              "    <tr>\n",
              "      <th>Texas</th>\n",
              "      <td>26448193</td>\n",
              "      <td>695662</td>\n",
              "    </tr>\n",
              "    <tr>\n",
              "      <th>New York</th>\n",
              "      <td>19651127</td>\n",
              "      <td>141297</td>\n",
              "    </tr>\n",
              "    <tr>\n",
              "      <th>Florida</th>\n",
              "      <td>19552860</td>\n",
              "      <td>170312</td>\n",
              "    </tr>\n",
              "    <tr>\n",
              "      <th>Illinois</th>\n",
              "      <td>12882135</td>\n",
              "      <td>149995</td>\n",
              "    </tr>\n",
              "  </tbody>\n",
              "</table>\n",
              "</div>"
            ],
            "text/plain": [
              "            população    área\n",
              "California   38332521  423967\n",
              "Texas        26448193  695662\n",
              "New York     19651127  141297\n",
              "Florida      19552860  170312\n",
              "Illinois     12882135  149995"
            ]
          },
          "metadata": {
            "tags": []
          },
          "execution_count": 25
        }
      ]
    },
    {
      "cell_type": "code",
      "metadata": {
        "id": "WRFlBhz77al1",
        "outputId": "af846070-d7e5-4f5c-e3eb-5c8a88b4c8b0",
        "colab": {
          "base_uri": "https://localhost:8080/",
          "height": 0
        }
      },
      "source": [
        "type(estados)"
      ],
      "execution_count": 26,
      "outputs": [
        {
          "output_type": "execute_result",
          "data": {
            "text/plain": [
              "pandas.core.frame.DataFrame"
            ]
          },
          "metadata": {
            "tags": []
          },
          "execution_count": 26
        }
      ]
    },
    {
      "cell_type": "code",
      "metadata": {
        "id": "EYMJGyBY7al4",
        "outputId": "38181bb7-2c59-47ec-930a-387294cac937",
        "colab": {
          "base_uri": "https://localhost:8080/",
          "height": 0
        }
      },
      "source": [
        "estados.index"
      ],
      "execution_count": 27,
      "outputs": [
        {
          "output_type": "execute_result",
          "data": {
            "text/plain": [
              "Index(['California', 'Texas', 'New York', 'Florida', 'Illinois'], dtype='object')"
            ]
          },
          "metadata": {
            "tags": []
          },
          "execution_count": 27
        }
      ]
    },
    {
      "cell_type": "code",
      "metadata": {
        "id": "7bFc0ixc7al6",
        "outputId": "256479cf-286f-4f20-c4c8-9cef11310296",
        "colab": {
          "base_uri": "https://localhost:8080/",
          "height": 0
        }
      },
      "source": [
        "estados.columns"
      ],
      "execution_count": 28,
      "outputs": [
        {
          "output_type": "execute_result",
          "data": {
            "text/plain": [
              "Index(['população', 'área'], dtype='object')"
            ]
          },
          "metadata": {
            "tags": []
          },
          "execution_count": 28
        }
      ]
    },
    {
      "cell_type": "markdown",
      "metadata": {
        "id": "A0PGSZdf7al8"
      },
      "source": [
        "Da mesma forma, também podemos pensar em um DataFrame como uma especialização de um dicionário. Onde um dicionário mapeia uma chave para um valor, um DataFrame mapeia um nome de coluna para uma série de dados de coluna. Por exemplo, pedir o atributo 'área' retorna o objeto Series que contém as áreas que vimos anteriormente:"
      ]
    },
    {
      "cell_type": "code",
      "metadata": {
        "id": "-pzc0pkI7al9",
        "outputId": "d243161c-e23f-4553-aa02-8102feaedd87",
        "colab": {
          "base_uri": "https://localhost:8080/",
          "height": 0
        }
      },
      "source": [
        "estados['área']"
      ],
      "execution_count": 29,
      "outputs": [
        {
          "output_type": "execute_result",
          "data": {
            "text/plain": [
              "California    423967\n",
              "Texas         695662\n",
              "New York      141297\n",
              "Florida       170312\n",
              "Illinois      149995\n",
              "Name: área, dtype: int64"
            ]
          },
          "metadata": {
            "tags": []
          },
          "execution_count": 29
        }
      ]
    },
    {
      "cell_type": "code",
      "metadata": {
        "id": "mzdkeccj7al_"
      },
      "source": [
        "# Cálculo da densidade populacional\n",
        "\n"
      ],
      "execution_count": 30,
      "outputs": []
    },
    {
      "cell_type": "markdown",
      "metadata": {
        "id": "xW0lduYF7amB"
      },
      "source": [
        "DataFrame Pandas podem ser criados de diversas formas.\n",
        "- A partir de objetos Series\n",
        "- A partir de Listas de Dicionários\n",
        "- A partir de Dicionários de objetos Series\n",
        "- A partir de arrays NumPy bidimensionais\n",
        "- A partir de array NumPy estruturado"
      ]
    },
    {
      "cell_type": "code",
      "metadata": {
        "id": "4Yeormlk7amB",
        "outputId": "8799961c-58ad-4989-efe1-165c455ac505",
        "colab": {
          "base_uri": "https://localhost:8080/",
          "height": 0
        }
      },
      "source": [
        "# Exemplo: Criação de DataFrame Pandas a partir de objetos Series\n",
        "pd.DataFrame(populacao, columns=['população'])"
      ],
      "execution_count": 31,
      "outputs": [
        {
          "output_type": "execute_result",
          "data": {
            "text/html": [
              "<div>\n",
              "<style scoped>\n",
              "    .dataframe tbody tr th:only-of-type {\n",
              "        vertical-align: middle;\n",
              "    }\n",
              "\n",
              "    .dataframe tbody tr th {\n",
              "        vertical-align: top;\n",
              "    }\n",
              "\n",
              "    .dataframe thead th {\n",
              "        text-align: right;\n",
              "    }\n",
              "</style>\n",
              "<table border=\"1\" class=\"dataframe\">\n",
              "  <thead>\n",
              "    <tr style=\"text-align: right;\">\n",
              "      <th></th>\n",
              "      <th>população</th>\n",
              "    </tr>\n",
              "  </thead>\n",
              "  <tbody>\n",
              "    <tr>\n",
              "      <th>California</th>\n",
              "      <td>38332521</td>\n",
              "    </tr>\n",
              "    <tr>\n",
              "      <th>Texas</th>\n",
              "      <td>26448193</td>\n",
              "    </tr>\n",
              "    <tr>\n",
              "      <th>New York</th>\n",
              "      <td>19651127</td>\n",
              "    </tr>\n",
              "    <tr>\n",
              "      <th>Florida</th>\n",
              "      <td>19552860</td>\n",
              "    </tr>\n",
              "    <tr>\n",
              "      <th>Illinois</th>\n",
              "      <td>12882135</td>\n",
              "    </tr>\n",
              "  </tbody>\n",
              "</table>\n",
              "</div>"
            ],
            "text/plain": [
              "            população\n",
              "California   38332521\n",
              "Texas        26448193\n",
              "New York     19651127\n",
              "Florida      19552860\n",
              "Illinois     12882135"
            ]
          },
          "metadata": {
            "tags": []
          },
          "execution_count": 31
        }
      ]
    },
    {
      "cell_type": "code",
      "metadata": {
        "id": "vK8OgZdB7amD",
        "outputId": "1cd198c7-453d-4f0d-8b78-95cd7f0f7c12",
        "colab": {
          "base_uri": "https://localhost:8080/",
          "height": 0
        }
      },
      "source": [
        "# Exemplo: Criação de DataFrame Pandas a partir de Lista de Dicionário\n",
        "# Data Missing (Dados perdidos) \n",
        "\n",
        "pd.DataFrame([{'a': 1, 'b': 2}, {'b': 3, 'c': 4}])"
      ],
      "execution_count": 32,
      "outputs": [
        {
          "output_type": "execute_result",
          "data": {
            "text/html": [
              "<div>\n",
              "<style scoped>\n",
              "    .dataframe tbody tr th:only-of-type {\n",
              "        vertical-align: middle;\n",
              "    }\n",
              "\n",
              "    .dataframe tbody tr th {\n",
              "        vertical-align: top;\n",
              "    }\n",
              "\n",
              "    .dataframe thead th {\n",
              "        text-align: right;\n",
              "    }\n",
              "</style>\n",
              "<table border=\"1\" class=\"dataframe\">\n",
              "  <thead>\n",
              "    <tr style=\"text-align: right;\">\n",
              "      <th></th>\n",
              "      <th>a</th>\n",
              "      <th>b</th>\n",
              "      <th>c</th>\n",
              "    </tr>\n",
              "  </thead>\n",
              "  <tbody>\n",
              "    <tr>\n",
              "      <th>0</th>\n",
              "      <td>1.0</td>\n",
              "      <td>2</td>\n",
              "      <td>NaN</td>\n",
              "    </tr>\n",
              "    <tr>\n",
              "      <th>1</th>\n",
              "      <td>NaN</td>\n",
              "      <td>3</td>\n",
              "      <td>4.0</td>\n",
              "    </tr>\n",
              "  </tbody>\n",
              "</table>\n",
              "</div>"
            ],
            "text/plain": [
              "     a  b    c\n",
              "0  1.0  2  NaN\n",
              "1  NaN  3  4.0"
            ]
          },
          "metadata": {
            "tags": []
          },
          "execution_count": 32
        }
      ]
    },
    {
      "cell_type": "markdown",
      "metadata": {
        "id": "es6sDm7z7amF"
      },
      "source": [
        "#### Tratando Data Missing em DataFrame\n",
        "De forma similar a Series, podemos tratar data missing em DataFrame\n",
        "- técnicas de eliminação\n",
        "    - df.dropna(parametros)\n",
        "- técnicas de preenchimento\n",
        "    - df.fillna(parametros)"
      ]
    },
    {
      "cell_type": "code",
      "metadata": {
        "id": "r3rTkZu97amI",
        "outputId": "0f8e6985-a664-47d4-c981-1ae38cdc900d",
        "colab": {
          "base_uri": "https://localhost:8080/",
          "height": 317
        }
      },
      "source": [
        "# Exemplo: Eliminando data missing em DataFrames\n",
        "# Eliminar as linhas com NaN\n",
        "# Eliminar as colunas com NaN\n",
        "# Eliminar as linhas e colunas com NaN\n",
        "\n",
        "dataF = DataFrame([[None, 6.5, 3., 1, 2, 3], \n",
        "                   [None, None, None,1, 2, 3], \n",
        "                   [None, None, None, None, None, None], \n",
        "                   [None, 6.5, 3.,1, 2, 3], \n",
        "                   [None, None, None, 1, 2, 3],\n",
        "                   [None, None, None, 1, 2, 3],\n",
        "                   [None, None, None, None, None, None], \n",
        "                   [None, None, None, 1, 2, 3],\n",
        "                   [None, None, None, 1, 2, 3]\n",
        "                   \n",
        "                   \n",
        "                   \n",
        "                   \n",
        "                   \n",
        "                   ])\n",
        "dataF"
      ],
      "execution_count": 164,
      "outputs": [
        {
          "output_type": "execute_result",
          "data": {
            "text/html": [
              "<div>\n",
              "<style scoped>\n",
              "    .dataframe tbody tr th:only-of-type {\n",
              "        vertical-align: middle;\n",
              "    }\n",
              "\n",
              "    .dataframe tbody tr th {\n",
              "        vertical-align: top;\n",
              "    }\n",
              "\n",
              "    .dataframe thead th {\n",
              "        text-align: right;\n",
              "    }\n",
              "</style>\n",
              "<table border=\"1\" class=\"dataframe\">\n",
              "  <thead>\n",
              "    <tr style=\"text-align: right;\">\n",
              "      <th></th>\n",
              "      <th>0</th>\n",
              "      <th>1</th>\n",
              "      <th>2</th>\n",
              "      <th>3</th>\n",
              "      <th>4</th>\n",
              "      <th>5</th>\n",
              "    </tr>\n",
              "  </thead>\n",
              "  <tbody>\n",
              "    <tr>\n",
              "      <th>0</th>\n",
              "      <td>None</td>\n",
              "      <td>6.5</td>\n",
              "      <td>3.0</td>\n",
              "      <td>1.0</td>\n",
              "      <td>2.0</td>\n",
              "      <td>3.0</td>\n",
              "    </tr>\n",
              "    <tr>\n",
              "      <th>1</th>\n",
              "      <td>None</td>\n",
              "      <td>NaN</td>\n",
              "      <td>NaN</td>\n",
              "      <td>1.0</td>\n",
              "      <td>2.0</td>\n",
              "      <td>3.0</td>\n",
              "    </tr>\n",
              "    <tr>\n",
              "      <th>2</th>\n",
              "      <td>None</td>\n",
              "      <td>NaN</td>\n",
              "      <td>NaN</td>\n",
              "      <td>NaN</td>\n",
              "      <td>NaN</td>\n",
              "      <td>NaN</td>\n",
              "    </tr>\n",
              "    <tr>\n",
              "      <th>3</th>\n",
              "      <td>None</td>\n",
              "      <td>6.5</td>\n",
              "      <td>3.0</td>\n",
              "      <td>1.0</td>\n",
              "      <td>2.0</td>\n",
              "      <td>3.0</td>\n",
              "    </tr>\n",
              "    <tr>\n",
              "      <th>4</th>\n",
              "      <td>None</td>\n",
              "      <td>NaN</td>\n",
              "      <td>NaN</td>\n",
              "      <td>1.0</td>\n",
              "      <td>2.0</td>\n",
              "      <td>3.0</td>\n",
              "    </tr>\n",
              "    <tr>\n",
              "      <th>5</th>\n",
              "      <td>None</td>\n",
              "      <td>NaN</td>\n",
              "      <td>NaN</td>\n",
              "      <td>1.0</td>\n",
              "      <td>2.0</td>\n",
              "      <td>3.0</td>\n",
              "    </tr>\n",
              "    <tr>\n",
              "      <th>6</th>\n",
              "      <td>None</td>\n",
              "      <td>NaN</td>\n",
              "      <td>NaN</td>\n",
              "      <td>NaN</td>\n",
              "      <td>NaN</td>\n",
              "      <td>NaN</td>\n",
              "    </tr>\n",
              "    <tr>\n",
              "      <th>7</th>\n",
              "      <td>None</td>\n",
              "      <td>NaN</td>\n",
              "      <td>NaN</td>\n",
              "      <td>1.0</td>\n",
              "      <td>2.0</td>\n",
              "      <td>3.0</td>\n",
              "    </tr>\n",
              "    <tr>\n",
              "      <th>8</th>\n",
              "      <td>None</td>\n",
              "      <td>NaN</td>\n",
              "      <td>NaN</td>\n",
              "      <td>1.0</td>\n",
              "      <td>2.0</td>\n",
              "      <td>3.0</td>\n",
              "    </tr>\n",
              "  </tbody>\n",
              "</table>\n",
              "</div>"
            ],
            "text/plain": [
              "      0    1    2    3    4    5\n",
              "0  None  6.5  3.0  1.0  2.0  3.0\n",
              "1  None  NaN  NaN  1.0  2.0  3.0\n",
              "2  None  NaN  NaN  NaN  NaN  NaN\n",
              "3  None  6.5  3.0  1.0  2.0  3.0\n",
              "4  None  NaN  NaN  1.0  2.0  3.0\n",
              "5  None  NaN  NaN  1.0  2.0  3.0\n",
              "6  None  NaN  NaN  NaN  NaN  NaN\n",
              "7  None  NaN  NaN  1.0  2.0  3.0\n",
              "8  None  NaN  NaN  1.0  2.0  3.0"
            ]
          },
          "metadata": {
            "tags": []
          },
          "execution_count": 164
        }
      ]
    },
    {
      "cell_type": "code",
      "metadata": {
        "id": "O2XPWj1W7amL",
        "outputId": "d1c7ca3e-4ea1-4e14-9e49-abb0bb3bea62",
        "colab": {
          "base_uri": "https://localhost:8080/",
          "height": 257
        }
      },
      "source": [
        "dataF.dropna(how='all')"
      ],
      "execution_count": 160,
      "outputs": [
        {
          "output_type": "execute_result",
          "data": {
            "text/html": [
              "<div>\n",
              "<style scoped>\n",
              "    .dataframe tbody tr th:only-of-type {\n",
              "        vertical-align: middle;\n",
              "    }\n",
              "\n",
              "    .dataframe tbody tr th {\n",
              "        vertical-align: top;\n",
              "    }\n",
              "\n",
              "    .dataframe thead th {\n",
              "        text-align: right;\n",
              "    }\n",
              "</style>\n",
              "<table border=\"1\" class=\"dataframe\">\n",
              "  <thead>\n",
              "    <tr style=\"text-align: right;\">\n",
              "      <th></th>\n",
              "      <th>0</th>\n",
              "      <th>1</th>\n",
              "      <th>2</th>\n",
              "      <th>3</th>\n",
              "      <th>4</th>\n",
              "      <th>5</th>\n",
              "    </tr>\n",
              "  </thead>\n",
              "  <tbody>\n",
              "    <tr>\n",
              "      <th>0</th>\n",
              "      <td>1.0</td>\n",
              "      <td>6.5</td>\n",
              "      <td>3.0</td>\n",
              "      <td>1.0</td>\n",
              "      <td>2.0</td>\n",
              "      <td>3.0</td>\n",
              "    </tr>\n",
              "    <tr>\n",
              "      <th>1</th>\n",
              "      <td>1.0</td>\n",
              "      <td>NaN</td>\n",
              "      <td>NaN</td>\n",
              "      <td>1.0</td>\n",
              "      <td>2.0</td>\n",
              "      <td>3.0</td>\n",
              "    </tr>\n",
              "    <tr>\n",
              "      <th>3</th>\n",
              "      <td>NaN</td>\n",
              "      <td>6.5</td>\n",
              "      <td>3.0</td>\n",
              "      <td>1.0</td>\n",
              "      <td>2.0</td>\n",
              "      <td>3.0</td>\n",
              "    </tr>\n",
              "    <tr>\n",
              "      <th>4</th>\n",
              "      <td>NaN</td>\n",
              "      <td>NaN</td>\n",
              "      <td>NaN</td>\n",
              "      <td>1.0</td>\n",
              "      <td>2.0</td>\n",
              "      <td>3.0</td>\n",
              "    </tr>\n",
              "    <tr>\n",
              "      <th>5</th>\n",
              "      <td>NaN</td>\n",
              "      <td>NaN</td>\n",
              "      <td>NaN</td>\n",
              "      <td>1.0</td>\n",
              "      <td>2.0</td>\n",
              "      <td>3.0</td>\n",
              "    </tr>\n",
              "    <tr>\n",
              "      <th>7</th>\n",
              "      <td>NaN</td>\n",
              "      <td>NaN</td>\n",
              "      <td>NaN</td>\n",
              "      <td>1.0</td>\n",
              "      <td>2.0</td>\n",
              "      <td>3.0</td>\n",
              "    </tr>\n",
              "    <tr>\n",
              "      <th>8</th>\n",
              "      <td>NaN</td>\n",
              "      <td>NaN</td>\n",
              "      <td>NaN</td>\n",
              "      <td>1.0</td>\n",
              "      <td>2.0</td>\n",
              "      <td>3.0</td>\n",
              "    </tr>\n",
              "  </tbody>\n",
              "</table>\n",
              "</div>"
            ],
            "text/plain": [
              "     0    1    2    3    4    5\n",
              "0  1.0  6.5  3.0  1.0  2.0  3.0\n",
              "1  1.0  NaN  NaN  1.0  2.0  3.0\n",
              "3  NaN  6.5  3.0  1.0  2.0  3.0\n",
              "4  NaN  NaN  NaN  1.0  2.0  3.0\n",
              "5  NaN  NaN  NaN  1.0  2.0  3.0\n",
              "7  NaN  NaN  NaN  1.0  2.0  3.0\n",
              "8  NaN  NaN  NaN  1.0  2.0  3.0"
            ]
          },
          "metadata": {
            "tags": []
          },
          "execution_count": 160
        }
      ]
    },
    {
      "cell_type": "code",
      "metadata": {
        "id": "eGXSuH_A7amN",
        "outputId": "c51783b7-ddc3-4073-b5ff-f451f0aeaaea",
        "colab": {
          "base_uri": "https://localhost:8080/",
          "height": 77
        }
      },
      "source": [
        "dataF.dropna()"
      ],
      "execution_count": 161,
      "outputs": [
        {
          "output_type": "execute_result",
          "data": {
            "text/html": [
              "<div>\n",
              "<style scoped>\n",
              "    .dataframe tbody tr th:only-of-type {\n",
              "        vertical-align: middle;\n",
              "    }\n",
              "\n",
              "    .dataframe tbody tr th {\n",
              "        vertical-align: top;\n",
              "    }\n",
              "\n",
              "    .dataframe thead th {\n",
              "        text-align: right;\n",
              "    }\n",
              "</style>\n",
              "<table border=\"1\" class=\"dataframe\">\n",
              "  <thead>\n",
              "    <tr style=\"text-align: right;\">\n",
              "      <th></th>\n",
              "      <th>0</th>\n",
              "      <th>1</th>\n",
              "      <th>2</th>\n",
              "      <th>3</th>\n",
              "      <th>4</th>\n",
              "      <th>5</th>\n",
              "    </tr>\n",
              "  </thead>\n",
              "  <tbody>\n",
              "    <tr>\n",
              "      <th>0</th>\n",
              "      <td>1.0</td>\n",
              "      <td>6.5</td>\n",
              "      <td>3.0</td>\n",
              "      <td>1.0</td>\n",
              "      <td>2.0</td>\n",
              "      <td>3.0</td>\n",
              "    </tr>\n",
              "  </tbody>\n",
              "</table>\n",
              "</div>"
            ],
            "text/plain": [
              "     0    1    2    3    4    5\n",
              "0  1.0  6.5  3.0  1.0  2.0  3.0"
            ]
          },
          "metadata": {
            "tags": []
          },
          "execution_count": 161
        }
      ]
    },
    {
      "cell_type": "code",
      "metadata": {
        "id": "gYhxG4rW7amP",
        "outputId": "6b08ed22-536b-4f4d-94f0-ed575d312906",
        "colab": {
          "base_uri": "https://localhost:8080/",
          "height": 301
        }
      },
      "source": [
        "dataF.dropna(axis='columns')"
      ],
      "execution_count": 165,
      "outputs": [
        {
          "output_type": "execute_result",
          "data": {
            "text/html": [
              "<div>\n",
              "<style scoped>\n",
              "    .dataframe tbody tr th:only-of-type {\n",
              "        vertical-align: middle;\n",
              "    }\n",
              "\n",
              "    .dataframe tbody tr th {\n",
              "        vertical-align: top;\n",
              "    }\n",
              "\n",
              "    .dataframe thead th {\n",
              "        text-align: right;\n",
              "    }\n",
              "</style>\n",
              "<table border=\"1\" class=\"dataframe\">\n",
              "  <thead>\n",
              "    <tr style=\"text-align: right;\">\n",
              "      <th></th>\n",
              "    </tr>\n",
              "  </thead>\n",
              "  <tbody>\n",
              "    <tr>\n",
              "      <th>0</th>\n",
              "    </tr>\n",
              "    <tr>\n",
              "      <th>1</th>\n",
              "    </tr>\n",
              "    <tr>\n",
              "      <th>2</th>\n",
              "    </tr>\n",
              "    <tr>\n",
              "      <th>3</th>\n",
              "    </tr>\n",
              "    <tr>\n",
              "      <th>4</th>\n",
              "    </tr>\n",
              "    <tr>\n",
              "      <th>5</th>\n",
              "    </tr>\n",
              "    <tr>\n",
              "      <th>6</th>\n",
              "    </tr>\n",
              "    <tr>\n",
              "      <th>7</th>\n",
              "    </tr>\n",
              "    <tr>\n",
              "      <th>8</th>\n",
              "    </tr>\n",
              "  </tbody>\n",
              "</table>\n",
              "</div>"
            ],
            "text/plain": [
              "Empty DataFrame\n",
              "Columns: []\n",
              "Index: [0, 1, 2, 3, 4, 5, 6, 7, 8]"
            ]
          },
          "metadata": {
            "tags": []
          },
          "execution_count": 165
        }
      ]
    },
    {
      "cell_type": "code",
      "metadata": {
        "id": "AFk3X3nL7amR",
        "outputId": "fef0bf4e-86ca-45f0-fc91-d189386cf743",
        "colab": {
          "base_uri": "https://localhost:8080/",
          "height": 317
        }
      },
      "source": [
        "dataF.dropna(how='all', axis='columns')"
      ],
      "execution_count": 166,
      "outputs": [
        {
          "output_type": "execute_result",
          "data": {
            "text/html": [
              "<div>\n",
              "<style scoped>\n",
              "    .dataframe tbody tr th:only-of-type {\n",
              "        vertical-align: middle;\n",
              "    }\n",
              "\n",
              "    .dataframe tbody tr th {\n",
              "        vertical-align: top;\n",
              "    }\n",
              "\n",
              "    .dataframe thead th {\n",
              "        text-align: right;\n",
              "    }\n",
              "</style>\n",
              "<table border=\"1\" class=\"dataframe\">\n",
              "  <thead>\n",
              "    <tr style=\"text-align: right;\">\n",
              "      <th></th>\n",
              "      <th>1</th>\n",
              "      <th>2</th>\n",
              "      <th>3</th>\n",
              "      <th>4</th>\n",
              "      <th>5</th>\n",
              "    </tr>\n",
              "  </thead>\n",
              "  <tbody>\n",
              "    <tr>\n",
              "      <th>0</th>\n",
              "      <td>6.5</td>\n",
              "      <td>3.0</td>\n",
              "      <td>1.0</td>\n",
              "      <td>2.0</td>\n",
              "      <td>3.0</td>\n",
              "    </tr>\n",
              "    <tr>\n",
              "      <th>1</th>\n",
              "      <td>NaN</td>\n",
              "      <td>NaN</td>\n",
              "      <td>1.0</td>\n",
              "      <td>2.0</td>\n",
              "      <td>3.0</td>\n",
              "    </tr>\n",
              "    <tr>\n",
              "      <th>2</th>\n",
              "      <td>NaN</td>\n",
              "      <td>NaN</td>\n",
              "      <td>NaN</td>\n",
              "      <td>NaN</td>\n",
              "      <td>NaN</td>\n",
              "    </tr>\n",
              "    <tr>\n",
              "      <th>3</th>\n",
              "      <td>6.5</td>\n",
              "      <td>3.0</td>\n",
              "      <td>1.0</td>\n",
              "      <td>2.0</td>\n",
              "      <td>3.0</td>\n",
              "    </tr>\n",
              "    <tr>\n",
              "      <th>4</th>\n",
              "      <td>NaN</td>\n",
              "      <td>NaN</td>\n",
              "      <td>1.0</td>\n",
              "      <td>2.0</td>\n",
              "      <td>3.0</td>\n",
              "    </tr>\n",
              "    <tr>\n",
              "      <th>5</th>\n",
              "      <td>NaN</td>\n",
              "      <td>NaN</td>\n",
              "      <td>1.0</td>\n",
              "      <td>2.0</td>\n",
              "      <td>3.0</td>\n",
              "    </tr>\n",
              "    <tr>\n",
              "      <th>6</th>\n",
              "      <td>NaN</td>\n",
              "      <td>NaN</td>\n",
              "      <td>NaN</td>\n",
              "      <td>NaN</td>\n",
              "      <td>NaN</td>\n",
              "    </tr>\n",
              "    <tr>\n",
              "      <th>7</th>\n",
              "      <td>NaN</td>\n",
              "      <td>NaN</td>\n",
              "      <td>1.0</td>\n",
              "      <td>2.0</td>\n",
              "      <td>3.0</td>\n",
              "    </tr>\n",
              "    <tr>\n",
              "      <th>8</th>\n",
              "      <td>NaN</td>\n",
              "      <td>NaN</td>\n",
              "      <td>1.0</td>\n",
              "      <td>2.0</td>\n",
              "      <td>3.0</td>\n",
              "    </tr>\n",
              "  </tbody>\n",
              "</table>\n",
              "</div>"
            ],
            "text/plain": [
              "     1    2    3    4    5\n",
              "0  6.5  3.0  1.0  2.0  3.0\n",
              "1  NaN  NaN  1.0  2.0  3.0\n",
              "2  NaN  NaN  NaN  NaN  NaN\n",
              "3  6.5  3.0  1.0  2.0  3.0\n",
              "4  NaN  NaN  1.0  2.0  3.0\n",
              "5  NaN  NaN  1.0  2.0  3.0\n",
              "6  NaN  NaN  NaN  NaN  NaN\n",
              "7  NaN  NaN  1.0  2.0  3.0\n",
              "8  NaN  NaN  1.0  2.0  3.0"
            ]
          },
          "metadata": {
            "tags": []
          },
          "execution_count": 166
        }
      ]
    },
    {
      "cell_type": "code",
      "metadata": {
        "id": "7d77EqL57amT",
        "outputId": "9f32a9c7-ee3b-48ca-d41f-d084cc41eb99",
        "colab": {
          "base_uri": "https://localhost:8080/",
          "height": 0
        }
      },
      "source": [
        "# Exemplo: Preenchimento de data missing em DataFrames\n",
        "import numpy as np\n",
        "\n",
        "df = DataFrame(np.random.randn(8, 6))\n",
        "df"
      ],
      "execution_count": 176,
      "outputs": [
        {
          "output_type": "execute_result",
          "data": {
            "text/html": [
              "<div>\n",
              "<style scoped>\n",
              "    .dataframe tbody tr th:only-of-type {\n",
              "        vertical-align: middle;\n",
              "    }\n",
              "\n",
              "    .dataframe tbody tr th {\n",
              "        vertical-align: top;\n",
              "    }\n",
              "\n",
              "    .dataframe thead th {\n",
              "        text-align: right;\n",
              "    }\n",
              "</style>\n",
              "<table border=\"1\" class=\"dataframe\">\n",
              "  <thead>\n",
              "    <tr style=\"text-align: right;\">\n",
              "      <th></th>\n",
              "      <th>0</th>\n",
              "      <th>1</th>\n",
              "      <th>2</th>\n",
              "      <th>3</th>\n",
              "      <th>4</th>\n",
              "      <th>5</th>\n",
              "    </tr>\n",
              "  </thead>\n",
              "  <tbody>\n",
              "    <tr>\n",
              "      <th>0</th>\n",
              "      <td>0.342434</td>\n",
              "      <td>-0.036822</td>\n",
              "      <td>-1.443143</td>\n",
              "      <td>-0.523700</td>\n",
              "      <td>-0.094791</td>\n",
              "      <td>2.557332</td>\n",
              "    </tr>\n",
              "    <tr>\n",
              "      <th>1</th>\n",
              "      <td>1.502715</td>\n",
              "      <td>-0.026921</td>\n",
              "      <td>0.677104</td>\n",
              "      <td>0.669537</td>\n",
              "      <td>0.617404</td>\n",
              "      <td>-0.278867</td>\n",
              "    </tr>\n",
              "    <tr>\n",
              "      <th>2</th>\n",
              "      <td>-1.161061</td>\n",
              "      <td>-0.284449</td>\n",
              "      <td>0.584211</td>\n",
              "      <td>-1.467810</td>\n",
              "      <td>-1.053184</td>\n",
              "      <td>-1.209435</td>\n",
              "    </tr>\n",
              "    <tr>\n",
              "      <th>3</th>\n",
              "      <td>2.297274</td>\n",
              "      <td>1.441891</td>\n",
              "      <td>-1.701618</td>\n",
              "      <td>0.008013</td>\n",
              "      <td>-1.171407</td>\n",
              "      <td>0.934106</td>\n",
              "    </tr>\n",
              "    <tr>\n",
              "      <th>4</th>\n",
              "      <td>0.962803</td>\n",
              "      <td>-1.482923</td>\n",
              "      <td>-0.527728</td>\n",
              "      <td>2.142785</td>\n",
              "      <td>0.281050</td>\n",
              "      <td>0.920762</td>\n",
              "    </tr>\n",
              "    <tr>\n",
              "      <th>5</th>\n",
              "      <td>0.495458</td>\n",
              "      <td>-0.694592</td>\n",
              "      <td>-1.357298</td>\n",
              "      <td>1.485842</td>\n",
              "      <td>-0.222434</td>\n",
              "      <td>1.330345</td>\n",
              "    </tr>\n",
              "    <tr>\n",
              "      <th>6</th>\n",
              "      <td>1.499884</td>\n",
              "      <td>-1.397419</td>\n",
              "      <td>-0.173891</td>\n",
              "      <td>-1.107032</td>\n",
              "      <td>1.169982</td>\n",
              "      <td>-0.987531</td>\n",
              "    </tr>\n",
              "    <tr>\n",
              "      <th>7</th>\n",
              "      <td>-1.402221</td>\n",
              "      <td>-1.064959</td>\n",
              "      <td>0.096421</td>\n",
              "      <td>-1.143309</td>\n",
              "      <td>-0.982985</td>\n",
              "      <td>-0.289966</td>\n",
              "    </tr>\n",
              "  </tbody>\n",
              "</table>\n",
              "</div>"
            ],
            "text/plain": [
              "          0         1         2         3         4         5\n",
              "0  0.342434 -0.036822 -1.443143 -0.523700 -0.094791  2.557332\n",
              "1  1.502715 -0.026921  0.677104  0.669537  0.617404 -0.278867\n",
              "2 -1.161061 -0.284449  0.584211 -1.467810 -1.053184 -1.209435\n",
              "3  2.297274  1.441891 -1.701618  0.008013 -1.171407  0.934106\n",
              "4  0.962803 -1.482923 -0.527728  2.142785  0.281050  0.920762\n",
              "5  0.495458 -0.694592 -1.357298  1.485842 -0.222434  1.330345\n",
              "6  1.499884 -1.397419 -0.173891 -1.107032  1.169982 -0.987531\n",
              "7 -1.402221 -1.064959  0.096421 -1.143309 -0.982985 -0.289966"
            ]
          },
          "metadata": {
            "tags": []
          },
          "execution_count": 176
        }
      ]
    },
    {
      "cell_type": "code",
      "metadata": {
        "id": "K3Jzurdm7amV",
        "outputId": "37424c1f-d55d-4c89-c9de-42443428e555",
        "colab": {
          "base_uri": "https://localhost:8080/",
          "height": 0
        }
      },
      "source": [
        "df.iloc[:3, 3] = None; df.iloc[:2, 2] = None\n",
        "df"
      ],
      "execution_count": 180,
      "outputs": [
        {
          "output_type": "execute_result",
          "data": {
            "text/html": [
              "<div>\n",
              "<style scoped>\n",
              "    .dataframe tbody tr th:only-of-type {\n",
              "        vertical-align: middle;\n",
              "    }\n",
              "\n",
              "    .dataframe tbody tr th {\n",
              "        vertical-align: top;\n",
              "    }\n",
              "\n",
              "    .dataframe thead th {\n",
              "        text-align: right;\n",
              "    }\n",
              "</style>\n",
              "<table border=\"1\" class=\"dataframe\">\n",
              "  <thead>\n",
              "    <tr style=\"text-align: right;\">\n",
              "      <th></th>\n",
              "      <th>0</th>\n",
              "      <th>1</th>\n",
              "      <th>2</th>\n",
              "      <th>3</th>\n",
              "      <th>4</th>\n",
              "      <th>5</th>\n",
              "    </tr>\n",
              "  </thead>\n",
              "  <tbody>\n",
              "    <tr>\n",
              "      <th>0</th>\n",
              "      <td>0.342434</td>\n",
              "      <td>NaN</td>\n",
              "      <td>NaN</td>\n",
              "      <td>NaN</td>\n",
              "      <td>-0.094791</td>\n",
              "      <td>2.557332</td>\n",
              "    </tr>\n",
              "    <tr>\n",
              "      <th>1</th>\n",
              "      <td>1.502715</td>\n",
              "      <td>2.000000</td>\n",
              "      <td>NaN</td>\n",
              "      <td>NaN</td>\n",
              "      <td>0.617404</td>\n",
              "      <td>-0.278867</td>\n",
              "    </tr>\n",
              "    <tr>\n",
              "      <th>2</th>\n",
              "      <td>-1.161061</td>\n",
              "      <td>2.000000</td>\n",
              "      <td>1.000000</td>\n",
              "      <td>NaN</td>\n",
              "      <td>-1.053184</td>\n",
              "      <td>-1.209435</td>\n",
              "    </tr>\n",
              "    <tr>\n",
              "      <th>3</th>\n",
              "      <td>2.297274</td>\n",
              "      <td>1.441891</td>\n",
              "      <td>1.000000</td>\n",
              "      <td>0.008013</td>\n",
              "      <td>-1.171407</td>\n",
              "      <td>0.934106</td>\n",
              "    </tr>\n",
              "    <tr>\n",
              "      <th>4</th>\n",
              "      <td>0.962803</td>\n",
              "      <td>-1.482923</td>\n",
              "      <td>-0.527728</td>\n",
              "      <td>2.142785</td>\n",
              "      <td>0.281050</td>\n",
              "      <td>0.920762</td>\n",
              "    </tr>\n",
              "    <tr>\n",
              "      <th>5</th>\n",
              "      <td>0.495458</td>\n",
              "      <td>-0.694592</td>\n",
              "      <td>-1.357298</td>\n",
              "      <td>1.485842</td>\n",
              "      <td>-0.222434</td>\n",
              "      <td>1.330345</td>\n",
              "    </tr>\n",
              "    <tr>\n",
              "      <th>6</th>\n",
              "      <td>1.499884</td>\n",
              "      <td>-1.397419</td>\n",
              "      <td>-0.173891</td>\n",
              "      <td>-1.107032</td>\n",
              "      <td>1.169982</td>\n",
              "      <td>-0.987531</td>\n",
              "    </tr>\n",
              "    <tr>\n",
              "      <th>7</th>\n",
              "      <td>-1.402221</td>\n",
              "      <td>-1.064959</td>\n",
              "      <td>0.096421</td>\n",
              "      <td>-1.143309</td>\n",
              "      <td>-0.982985</td>\n",
              "      <td>-0.289966</td>\n",
              "    </tr>\n",
              "  </tbody>\n",
              "</table>\n",
              "</div>"
            ],
            "text/plain": [
              "          0         1         2         3         4         5\n",
              "0  0.342434       NaN       NaN       NaN -0.094791  2.557332\n",
              "1  1.502715  2.000000       NaN       NaN  0.617404 -0.278867\n",
              "2 -1.161061  2.000000  1.000000       NaN -1.053184 -1.209435\n",
              "3  2.297274  1.441891  1.000000  0.008013 -1.171407  0.934106\n",
              "4  0.962803 -1.482923 -0.527728  2.142785  0.281050  0.920762\n",
              "5  0.495458 -0.694592 -1.357298  1.485842 -0.222434  1.330345\n",
              "6  1.499884 -1.397419 -0.173891 -1.107032  1.169982 -0.987531\n",
              "7 -1.402221 -1.064959  0.096421 -1.143309 -0.982985 -0.289966"
            ]
          },
          "metadata": {
            "tags": []
          },
          "execution_count": 180
        }
      ]
    },
    {
      "cell_type": "code",
      "metadata": {
        "id": "7d7IOXuNdVGS",
        "outputId": "d6be2462-2afd-4594-c816-29b64ef82be0",
        "colab": {
          "base_uri": "https://localhost:8080/",
          "height": 0
        }
      },
      "source": [
        "pip install missingno "
      ],
      "execution_count": 182,
      "outputs": [
        {
          "output_type": "stream",
          "text": [
            "Requirement already satisfied: missingno in /usr/local/lib/python3.6/dist-packages (0.4.2)\n",
            "Requirement already satisfied: matplotlib in /usr/local/lib/python3.6/dist-packages (from missingno) (3.2.2)\n",
            "Requirement already satisfied: seaborn in /usr/local/lib/python3.6/dist-packages (from missingno) (0.11.0)\n",
            "Requirement already satisfied: scipy in /usr/local/lib/python3.6/dist-packages (from missingno) (1.4.1)\n",
            "Requirement already satisfied: numpy in /usr/local/lib/python3.6/dist-packages (from missingno) (1.18.5)\n",
            "Requirement already satisfied: pyparsing!=2.0.4,!=2.1.2,!=2.1.6,>=2.0.1 in /usr/local/lib/python3.6/dist-packages (from matplotlib->missingno) (2.4.7)\n",
            "Requirement already satisfied: cycler>=0.10 in /usr/local/lib/python3.6/dist-packages (from matplotlib->missingno) (0.10.0)\n",
            "Requirement already satisfied: kiwisolver>=1.0.1 in /usr/local/lib/python3.6/dist-packages (from matplotlib->missingno) (1.2.0)\n",
            "Requirement already satisfied: python-dateutil>=2.1 in /usr/local/lib/python3.6/dist-packages (from matplotlib->missingno) (2.8.1)\n",
            "Requirement already satisfied: pandas>=0.23 in /usr/local/lib/python3.6/dist-packages (from seaborn->missingno) (1.1.2)\n",
            "Requirement already satisfied: six in /usr/local/lib/python3.6/dist-packages (from cycler>=0.10->matplotlib->missingno) (1.15.0)\n",
            "Requirement already satisfied: pytz>=2017.2 in /usr/local/lib/python3.6/dist-packages (from pandas>=0.23->seaborn->missingno) (2018.9)\n"
          ],
          "name": "stdout"
        }
      ]
    },
    {
      "cell_type": "code",
      "metadata": {
        "id": "IlMoN61dduu4"
      },
      "source": [
        "import missingno as msno"
      ],
      "execution_count": 183,
      "outputs": []
    },
    {
      "cell_type": "code",
      "metadata": {
        "id": "g-G9BgQidzPf",
        "outputId": "25679ed6-014c-4724-9c42-7b5af5fbdc13",
        "colab": {
          "base_uri": "https://localhost:8080/",
          "height": 0
        }
      },
      "source": [
        "msno.matrix(df)"
      ],
      "execution_count": 184,
      "outputs": [
        {
          "output_type": "execute_result",
          "data": {
            "text/plain": [
              "<matplotlib.axes._subplots.AxesSubplot at 0x7f22a755f390>"
            ]
          },
          "metadata": {
            "tags": []
          },
          "execution_count": 184
        },
        {
          "output_type": "display_data",
          "data": {
            "image/png": "[encoded data removed]",
            "text/plain": [
              "<Figure size 1800x720 with 2 Axes>"
            ]
          },
          "metadata": {
            "tags": [],
            "needs_background": "light"
          }
        }
      ]
    },
    {
      "cell_type": "code",
      "metadata": {
        "id": "FAMHGk_j7amY",
        "outputId": "2bb880bf-dbc4-444b-9932-65396f49f83f",
        "colab": {
          "base_uri": "https://localhost:8080/",
          "height": 0
        }
      },
      "source": [
        "# Exemplo: Preenchimento de data missing em DataFrames\n",
        "#          com valor ZERO\n",
        "\n",
        "df.fillna(0)"
      ],
      "execution_count": 185,
      "outputs": [
        {
          "output_type": "execute_result",
          "data": {
            "text/html": [
              "<div>\n",
              "<style scoped>\n",
              "    .dataframe tbody tr th:only-of-type {\n",
              "        vertical-align: middle;\n",
              "    }\n",
              "\n",
              "    .dataframe tbody tr th {\n",
              "        vertical-align: top;\n",
              "    }\n",
              "\n",
              "    .dataframe thead th {\n",
              "        text-align: right;\n",
              "    }\n",
              "</style>\n",
              "<table border=\"1\" class=\"dataframe\">\n",
              "  <thead>\n",
              "    <tr style=\"text-align: right;\">\n",
              "      <th></th>\n",
              "      <th>0</th>\n",
              "      <th>1</th>\n",
              "      <th>2</th>\n",
              "      <th>3</th>\n",
              "      <th>4</th>\n",
              "      <th>5</th>\n",
              "    </tr>\n",
              "  </thead>\n",
              "  <tbody>\n",
              "    <tr>\n",
              "      <th>0</th>\n",
              "      <td>0.342434</td>\n",
              "      <td>0.000000</td>\n",
              "      <td>0.000000</td>\n",
              "      <td>0.000000</td>\n",
              "      <td>-0.094791</td>\n",
              "      <td>2.557332</td>\n",
              "    </tr>\n",
              "    <tr>\n",
              "      <th>1</th>\n",
              "      <td>1.502715</td>\n",
              "      <td>2.000000</td>\n",
              "      <td>0.000000</td>\n",
              "      <td>0.000000</td>\n",
              "      <td>0.617404</td>\n",
              "      <td>-0.278867</td>\n",
              "    </tr>\n",
              "    <tr>\n",
              "      <th>2</th>\n",
              "      <td>-1.161061</td>\n",
              "      <td>2.000000</td>\n",
              "      <td>1.000000</td>\n",
              "      <td>0.000000</td>\n",
              "      <td>-1.053184</td>\n",
              "      <td>-1.209435</td>\n",
              "    </tr>\n",
              "    <tr>\n",
              "      <th>3</th>\n",
              "      <td>2.297274</td>\n",
              "      <td>1.441891</td>\n",
              "      <td>1.000000</td>\n",
              "      <td>0.008013</td>\n",
              "      <td>-1.171407</td>\n",
              "      <td>0.934106</td>\n",
              "    </tr>\n",
              "    <tr>\n",
              "      <th>4</th>\n",
              "      <td>0.962803</td>\n",
              "      <td>-1.482923</td>\n",
              "      <td>-0.527728</td>\n",
              "      <td>2.142785</td>\n",
              "      <td>0.281050</td>\n",
              "      <td>0.920762</td>\n",
              "    </tr>\n",
              "    <tr>\n",
              "      <th>5</th>\n",
              "      <td>0.495458</td>\n",
              "      <td>-0.694592</td>\n",
              "      <td>-1.357298</td>\n",
              "      <td>1.485842</td>\n",
              "      <td>-0.222434</td>\n",
              "      <td>1.330345</td>\n",
              "    </tr>\n",
              "    <tr>\n",
              "      <th>6</th>\n",
              "      <td>1.499884</td>\n",
              "      <td>-1.397419</td>\n",
              "      <td>-0.173891</td>\n",
              "      <td>-1.107032</td>\n",
              "      <td>1.169982</td>\n",
              "      <td>-0.987531</td>\n",
              "    </tr>\n",
              "    <tr>\n",
              "      <th>7</th>\n",
              "      <td>-1.402221</td>\n",
              "      <td>-1.064959</td>\n",
              "      <td>0.096421</td>\n",
              "      <td>-1.143309</td>\n",
              "      <td>-0.982985</td>\n",
              "      <td>-0.289966</td>\n",
              "    </tr>\n",
              "  </tbody>\n",
              "</table>\n",
              "</div>"
            ],
            "text/plain": [
              "          0         1         2         3         4         5\n",
              "0  0.342434  0.000000  0.000000  0.000000 -0.094791  2.557332\n",
              "1  1.502715  2.000000  0.000000  0.000000  0.617404 -0.278867\n",
              "2 -1.161061  2.000000  1.000000  0.000000 -1.053184 -1.209435\n",
              "3  2.297274  1.441891  1.000000  0.008013 -1.171407  0.934106\n",
              "4  0.962803 -1.482923 -0.527728  2.142785  0.281050  0.920762\n",
              "5  0.495458 -0.694592 -1.357298  1.485842 -0.222434  1.330345\n",
              "6  1.499884 -1.397419 -0.173891 -1.107032  1.169982 -0.987531\n",
              "7 -1.402221 -1.064959  0.096421 -1.143309 -0.982985 -0.289966"
            ]
          },
          "metadata": {
            "tags": []
          },
          "execution_count": 185
        }
      ]
    },
    {
      "cell_type": "code",
      "metadata": {
        "id": "ZRctvSFQeZu8",
        "outputId": "78477c5c-da9d-4eed-b005-bcde38625419",
        "colab": {
          "base_uri": "https://localhost:8080/",
          "height": 0
        }
      },
      "source": [
        "msno.matrix(df)"
      ],
      "execution_count": 186,
      "outputs": [
        {
          "output_type": "execute_result",
          "data": {
            "text/plain": [
              "<matplotlib.axes._subplots.AxesSubplot at 0x7f22a48725c0>"
            ]
          },
          "metadata": {
            "tags": []
          },
          "execution_count": 186
        },
        {
          "output_type": "display_data",
          "data": {
            "image/png": "[encoded data removed]",
            "text/plain": [
              "<Figure size 1800x720 with 2 Axes>"
            ]
          },
          "metadata": {
            "tags": [],
            "needs_background": "light"
          }
        }
      ]
    },
    {
      "cell_type": "code",
      "metadata": {
        "id": "KJngFNPR7amc",
        "outputId": "4b4bbd68-d479-4162-9d46-deeb6589eb24",
        "colab": {
          "base_uri": "https://localhost:8080/",
          "height": 0
        }
      },
      "source": [
        "df.iloc[3:4,0:1] = None\n",
        "df"
      ],
      "execution_count": 187,
      "outputs": [
        {
          "output_type": "execute_result",
          "data": {
            "text/html": [
              "<div>\n",
              "<style scoped>\n",
              "    .dataframe tbody tr th:only-of-type {\n",
              "        vertical-align: middle;\n",
              "    }\n",
              "\n",
              "    .dataframe tbody tr th {\n",
              "        vertical-align: top;\n",
              "    }\n",
              "\n",
              "    .dataframe thead th {\n",
              "        text-align: right;\n",
              "    }\n",
              "</style>\n",
              "<table border=\"1\" class=\"dataframe\">\n",
              "  <thead>\n",
              "    <tr style=\"text-align: right;\">\n",
              "      <th></th>\n",
              "      <th>0</th>\n",
              "      <th>1</th>\n",
              "      <th>2</th>\n",
              "      <th>3</th>\n",
              "      <th>4</th>\n",
              "      <th>5</th>\n",
              "    </tr>\n",
              "  </thead>\n",
              "  <tbody>\n",
              "    <tr>\n",
              "      <th>0</th>\n",
              "      <td>0.342434</td>\n",
              "      <td>NaN</td>\n",
              "      <td>NaN</td>\n",
              "      <td>NaN</td>\n",
              "      <td>-0.094791</td>\n",
              "      <td>2.557332</td>\n",
              "    </tr>\n",
              "    <tr>\n",
              "      <th>1</th>\n",
              "      <td>1.502715</td>\n",
              "      <td>2.000000</td>\n",
              "      <td>NaN</td>\n",
              "      <td>NaN</td>\n",
              "      <td>0.617404</td>\n",
              "      <td>-0.278867</td>\n",
              "    </tr>\n",
              "    <tr>\n",
              "      <th>2</th>\n",
              "      <td>-1.161061</td>\n",
              "      <td>2.000000</td>\n",
              "      <td>1.000000</td>\n",
              "      <td>NaN</td>\n",
              "      <td>-1.053184</td>\n",
              "      <td>-1.209435</td>\n",
              "    </tr>\n",
              "    <tr>\n",
              "      <th>3</th>\n",
              "      <td>NaN</td>\n",
              "      <td>1.441891</td>\n",
              "      <td>1.000000</td>\n",
              "      <td>0.008013</td>\n",
              "      <td>-1.171407</td>\n",
              "      <td>0.934106</td>\n",
              "    </tr>\n",
              "    <tr>\n",
              "      <th>4</th>\n",
              "      <td>0.962803</td>\n",
              "      <td>-1.482923</td>\n",
              "      <td>-0.527728</td>\n",
              "      <td>2.142785</td>\n",
              "      <td>0.281050</td>\n",
              "      <td>0.920762</td>\n",
              "    </tr>\n",
              "    <tr>\n",
              "      <th>5</th>\n",
              "      <td>0.495458</td>\n",
              "      <td>-0.694592</td>\n",
              "      <td>-1.357298</td>\n",
              "      <td>1.485842</td>\n",
              "      <td>-0.222434</td>\n",
              "      <td>1.330345</td>\n",
              "    </tr>\n",
              "    <tr>\n",
              "      <th>6</th>\n",
              "      <td>1.499884</td>\n",
              "      <td>-1.397419</td>\n",
              "      <td>-0.173891</td>\n",
              "      <td>-1.107032</td>\n",
              "      <td>1.169982</td>\n",
              "      <td>-0.987531</td>\n",
              "    </tr>\n",
              "    <tr>\n",
              "      <th>7</th>\n",
              "      <td>-1.402221</td>\n",
              "      <td>-1.064959</td>\n",
              "      <td>0.096421</td>\n",
              "      <td>-1.143309</td>\n",
              "      <td>-0.982985</td>\n",
              "      <td>-0.289966</td>\n",
              "    </tr>\n",
              "  </tbody>\n",
              "</table>\n",
              "</div>"
            ],
            "text/plain": [
              "          0         1         2         3         4         5\n",
              "0  0.342434       NaN       NaN       NaN -0.094791  2.557332\n",
              "1  1.502715  2.000000       NaN       NaN  0.617404 -0.278867\n",
              "2 -1.161061  2.000000  1.000000       NaN -1.053184 -1.209435\n",
              "3       NaN  1.441891  1.000000  0.008013 -1.171407  0.934106\n",
              "4  0.962803 -1.482923 -0.527728  2.142785  0.281050  0.920762\n",
              "5  0.495458 -0.694592 -1.357298  1.485842 -0.222434  1.330345\n",
              "6  1.499884 -1.397419 -0.173891 -1.107032  1.169982 -0.987531\n",
              "7 -1.402221 -1.064959  0.096421 -1.143309 -0.982985 -0.289966"
            ]
          },
          "metadata": {
            "tags": []
          },
          "execution_count": 187
        }
      ]
    },
    {
      "cell_type": "code",
      "metadata": {
        "id": "hNJ9nDUc7amf",
        "outputId": "3f31dd88-3f75-4f82-ab49-da01a62a491d",
        "colab": {
          "base_uri": "https://localhost:8080/",
          "height": 0
        }
      },
      "source": [
        "# Exemplo: Preenchimento de data missing em DataFrames\n",
        "df.fillna(method='ffill')"
      ],
      "execution_count": 188,
      "outputs": [
        {
          "output_type": "execute_result",
          "data": {
            "text/html": [
              "<div>\n",
              "<style scoped>\n",
              "    .dataframe tbody tr th:only-of-type {\n",
              "        vertical-align: middle;\n",
              "    }\n",
              "\n",
              "    .dataframe tbody tr th {\n",
              "        vertical-align: top;\n",
              "    }\n",
              "\n",
              "    .dataframe thead th {\n",
              "        text-align: right;\n",
              "    }\n",
              "</style>\n",
              "<table border=\"1\" class=\"dataframe\">\n",
              "  <thead>\n",
              "    <tr style=\"text-align: right;\">\n",
              "      <th></th>\n",
              "      <th>0</th>\n",
              "      <th>1</th>\n",
              "      <th>2</th>\n",
              "      <th>3</th>\n",
              "      <th>4</th>\n",
              "      <th>5</th>\n",
              "    </tr>\n",
              "  </thead>\n",
              "  <tbody>\n",
              "    <tr>\n",
              "      <th>0</th>\n",
              "      <td>0.342434</td>\n",
              "      <td>NaN</td>\n",
              "      <td>NaN</td>\n",
              "      <td>NaN</td>\n",
              "      <td>-0.094791</td>\n",
              "      <td>2.557332</td>\n",
              "    </tr>\n",
              "    <tr>\n",
              "      <th>1</th>\n",
              "      <td>1.502715</td>\n",
              "      <td>2.000000</td>\n",
              "      <td>NaN</td>\n",
              "      <td>NaN</td>\n",
              "      <td>0.617404</td>\n",
              "      <td>-0.278867</td>\n",
              "    </tr>\n",
              "    <tr>\n",
              "      <th>2</th>\n",
              "      <td>-1.161061</td>\n",
              "      <td>2.000000</td>\n",
              "      <td>1.000000</td>\n",
              "      <td>NaN</td>\n",
              "      <td>-1.053184</td>\n",
              "      <td>-1.209435</td>\n",
              "    </tr>\n",
              "    <tr>\n",
              "      <th>3</th>\n",
              "      <td>-1.161061</td>\n",
              "      <td>1.441891</td>\n",
              "      <td>1.000000</td>\n",
              "      <td>0.008013</td>\n",
              "      <td>-1.171407</td>\n",
              "      <td>0.934106</td>\n",
              "    </tr>\n",
              "    <tr>\n",
              "      <th>4</th>\n",
              "      <td>0.962803</td>\n",
              "      <td>-1.482923</td>\n",
              "      <td>-0.527728</td>\n",
              "      <td>2.142785</td>\n",
              "      <td>0.281050</td>\n",
              "      <td>0.920762</td>\n",
              "    </tr>\n",
              "    <tr>\n",
              "      <th>5</th>\n",
              "      <td>0.495458</td>\n",
              "      <td>-0.694592</td>\n",
              "      <td>-1.357298</td>\n",
              "      <td>1.485842</td>\n",
              "      <td>-0.222434</td>\n",
              "      <td>1.330345</td>\n",
              "    </tr>\n",
              "    <tr>\n",
              "      <th>6</th>\n",
              "      <td>1.499884</td>\n",
              "      <td>-1.397419</td>\n",
              "      <td>-0.173891</td>\n",
              "      <td>-1.107032</td>\n",
              "      <td>1.169982</td>\n",
              "      <td>-0.987531</td>\n",
              "    </tr>\n",
              "    <tr>\n",
              "      <th>7</th>\n",
              "      <td>-1.402221</td>\n",
              "      <td>-1.064959</td>\n",
              "      <td>0.096421</td>\n",
              "      <td>-1.143309</td>\n",
              "      <td>-0.982985</td>\n",
              "      <td>-0.289966</td>\n",
              "    </tr>\n",
              "  </tbody>\n",
              "</table>\n",
              "</div>"
            ],
            "text/plain": [
              "          0         1         2         3         4         5\n",
              "0  0.342434       NaN       NaN       NaN -0.094791  2.557332\n",
              "1  1.502715  2.000000       NaN       NaN  0.617404 -0.278867\n",
              "2 -1.161061  2.000000  1.000000       NaN -1.053184 -1.209435\n",
              "3 -1.161061  1.441891  1.000000  0.008013 -1.171407  0.934106\n",
              "4  0.962803 -1.482923 -0.527728  2.142785  0.281050  0.920762\n",
              "5  0.495458 -0.694592 -1.357298  1.485842 -0.222434  1.330345\n",
              "6  1.499884 -1.397419 -0.173891 -1.107032  1.169982 -0.987531\n",
              "7 -1.402221 -1.064959  0.096421 -1.143309 -0.982985 -0.289966"
            ]
          },
          "metadata": {
            "tags": []
          },
          "execution_count": 188
        }
      ]
    },
    {
      "cell_type": "code",
      "metadata": {
        "id": "H7hjtrMg7amj",
        "outputId": "af9a7a93-1099-4190-8571-aa4c68394988",
        "colab": {
          "base_uri": "https://localhost:8080/",
          "height": 0
        }
      },
      "source": [
        "# Exemplo: Preenchimento de data missing em DataFrames\n",
        "# Chamando .fillna() com um tipo 'dict', \n",
        "# pode-se usar um valor diferente de preenchimento para cada coluna\n",
        "\n",
        "df.fillna({0: 2, 1: 0.5, 2: -1, 3: 6,})\n"
      ],
      "execution_count": 191,
      "outputs": [
        {
          "output_type": "execute_result",
          "data": {
            "text/html": [
              "<div>\n",
              "<style scoped>\n",
              "    .dataframe tbody tr th:only-of-type {\n",
              "        vertical-align: middle;\n",
              "    }\n",
              "\n",
              "    .dataframe tbody tr th {\n",
              "        vertical-align: top;\n",
              "    }\n",
              "\n",
              "    .dataframe thead th {\n",
              "        text-align: right;\n",
              "    }\n",
              "</style>\n",
              "<table border=\"1\" class=\"dataframe\">\n",
              "  <thead>\n",
              "    <tr style=\"text-align: right;\">\n",
              "      <th></th>\n",
              "      <th>0</th>\n",
              "      <th>1</th>\n",
              "      <th>2</th>\n",
              "      <th>3</th>\n",
              "      <th>4</th>\n",
              "      <th>5</th>\n",
              "    </tr>\n",
              "  </thead>\n",
              "  <tbody>\n",
              "    <tr>\n",
              "      <th>0</th>\n",
              "      <td>0.342434</td>\n",
              "      <td>0.500000</td>\n",
              "      <td>-1.000000</td>\n",
              "      <td>6.000000</td>\n",
              "      <td>-0.094791</td>\n",
              "      <td>2.557332</td>\n",
              "    </tr>\n",
              "    <tr>\n",
              "      <th>1</th>\n",
              "      <td>1.502715</td>\n",
              "      <td>2.000000</td>\n",
              "      <td>-1.000000</td>\n",
              "      <td>6.000000</td>\n",
              "      <td>0.617404</td>\n",
              "      <td>-0.278867</td>\n",
              "    </tr>\n",
              "    <tr>\n",
              "      <th>2</th>\n",
              "      <td>-1.161061</td>\n",
              "      <td>2.000000</td>\n",
              "      <td>1.000000</td>\n",
              "      <td>6.000000</td>\n",
              "      <td>-1.053184</td>\n",
              "      <td>-1.209435</td>\n",
              "    </tr>\n",
              "    <tr>\n",
              "      <th>3</th>\n",
              "      <td>2.000000</td>\n",
              "      <td>1.441891</td>\n",
              "      <td>1.000000</td>\n",
              "      <td>0.008013</td>\n",
              "      <td>-1.171407</td>\n",
              "      <td>0.934106</td>\n",
              "    </tr>\n",
              "    <tr>\n",
              "      <th>4</th>\n",
              "      <td>0.962803</td>\n",
              "      <td>-1.482923</td>\n",
              "      <td>-0.527728</td>\n",
              "      <td>2.142785</td>\n",
              "      <td>0.281050</td>\n",
              "      <td>0.920762</td>\n",
              "    </tr>\n",
              "    <tr>\n",
              "      <th>5</th>\n",
              "      <td>0.495458</td>\n",
              "      <td>-0.694592</td>\n",
              "      <td>-1.357298</td>\n",
              "      <td>1.485842</td>\n",
              "      <td>-0.222434</td>\n",
              "      <td>1.330345</td>\n",
              "    </tr>\n",
              "    <tr>\n",
              "      <th>6</th>\n",
              "      <td>1.499884</td>\n",
              "      <td>-1.397419</td>\n",
              "      <td>-0.173891</td>\n",
              "      <td>-1.107032</td>\n",
              "      <td>1.169982</td>\n",
              "      <td>-0.987531</td>\n",
              "    </tr>\n",
              "    <tr>\n",
              "      <th>7</th>\n",
              "      <td>-1.402221</td>\n",
              "      <td>-1.064959</td>\n",
              "      <td>0.096421</td>\n",
              "      <td>-1.143309</td>\n",
              "      <td>-0.982985</td>\n",
              "      <td>-0.289966</td>\n",
              "    </tr>\n",
              "  </tbody>\n",
              "</table>\n",
              "</div>"
            ],
            "text/plain": [
              "          0         1         2         3         4         5\n",
              "0  0.342434  0.500000 -1.000000  6.000000 -0.094791  2.557332\n",
              "1  1.502715  2.000000 -1.000000  6.000000  0.617404 -0.278867\n",
              "2 -1.161061  2.000000  1.000000  6.000000 -1.053184 -1.209435\n",
              "3  2.000000  1.441891  1.000000  0.008013 -1.171407  0.934106\n",
              "4  0.962803 -1.482923 -0.527728  2.142785  0.281050  0.920762\n",
              "5  0.495458 -0.694592 -1.357298  1.485842 -0.222434  1.330345\n",
              "6  1.499884 -1.397419 -0.173891 -1.107032  1.169982 -0.987531\n",
              "7 -1.402221 -1.064959  0.096421 -1.143309 -0.982985 -0.289966"
            ]
          },
          "metadata": {
            "tags": []
          },
          "execution_count": 191
        }
      ]
    },
    {
      "cell_type": "code",
      "metadata": {
        "id": "hzZJDIiI7amk",
        "outputId": "cb270a30-5aaa-4772-a36c-c5cac9b8eff4",
        "colab": {
          "base_uri": "https://localhost:8080/",
          "height": 0
        }
      },
      "source": [
        "# Exemplo: Criação de DataFrame Pandas \n",
        "#          a partir Dicionários de objetos Series\n",
        "\n",
        "pd.DataFrame({'população1': populacao,'área1': area})\n"
      ],
      "execution_count": 81,
      "outputs": [
        {
          "output_type": "execute_result",
          "data": {
            "text/html": [
              "<div>\n",
              "<style scoped>\n",
              "    .dataframe tbody tr th:only-of-type {\n",
              "        vertical-align: middle;\n",
              "    }\n",
              "\n",
              "    .dataframe tbody tr th {\n",
              "        vertical-align: top;\n",
              "    }\n",
              "\n",
              "    .dataframe thead th {\n",
              "        text-align: right;\n",
              "    }\n",
              "</style>\n",
              "<table border=\"1\" class=\"dataframe\">\n",
              "  <thead>\n",
              "    <tr style=\"text-align: right;\">\n",
              "      <th></th>\n",
              "      <th>população1</th>\n",
              "      <th>área1</th>\n",
              "    </tr>\n",
              "  </thead>\n",
              "  <tbody>\n",
              "    <tr>\n",
              "      <th>California</th>\n",
              "      <td>38332521</td>\n",
              "      <td>423967</td>\n",
              "    </tr>\n",
              "    <tr>\n",
              "      <th>Texas</th>\n",
              "      <td>26448193</td>\n",
              "      <td>695662</td>\n",
              "    </tr>\n",
              "    <tr>\n",
              "      <th>New York</th>\n",
              "      <td>19651127</td>\n",
              "      <td>141297</td>\n",
              "    </tr>\n",
              "    <tr>\n",
              "      <th>Florida</th>\n",
              "      <td>19552860</td>\n",
              "      <td>170312</td>\n",
              "    </tr>\n",
              "    <tr>\n",
              "      <th>Illinois</th>\n",
              "      <td>12882135</td>\n",
              "      <td>149995</td>\n",
              "    </tr>\n",
              "  </tbody>\n",
              "</table>\n",
              "</div>"
            ],
            "text/plain": [
              "            população1   área1\n",
              "California    38332521  423967\n",
              "Texas         26448193  695662\n",
              "New York      19651127  141297\n",
              "Florida       19552860  170312\n",
              "Illinois      12882135  149995"
            ]
          },
          "metadata": {
            "tags": []
          },
          "execution_count": 81
        }
      ]
    }
  ]
}